{
 "cells": [
  {
   "cell_type": "markdown",
   "metadata": {},
   "source": [
    "# Character Input"
   ]
  },
  {
   "cell_type": "markdown",
   "metadata": {},
   "source": [
    "#Create a program that asks the user to enter their name and their age. Print out a message addressed to them that tells them the year that they will turn 100 years old."
   ]
  },
  {
   "cell_type": "code",
   "execution_count": 18,
   "metadata": {},
   "outputs": [
    {
     "name": "stdout",
     "output_type": "stream",
     "text": [
      "Enter your name : bd\n",
      "Enter your age : 24\n",
      "bd You will turn 100 years old by 2094\n"
     ]
    }
   ],
   "source": [
    "#Solution\n",
    "name = input('Enter your name : ')\n",
    "age = int(input('Enter your age : '))\n",
    "year = str((2018 - age) + 100)\n",
    "print(name + ' You will turn 100 years old by ' + year)"
   ]
  },
  {
   "cell_type": "markdown",
   "metadata": {},
   "source": [
    "##Ask the user for a number. Depending on whether the number is even or odd, print out an appropriate message to the user"
   ]
  },
  {
   "cell_type": "code",
   "execution_count": 23,
   "metadata": {},
   "outputs": [
    {
     "name": "stdout",
     "output_type": "stream",
     "text": [
      " Enter a number 11111\n",
      " Num is odd no \n"
     ]
    }
   ],
   "source": [
    "#solution\n",
    "num = int(input (\" Enter a number \"))\n",
    "if num % 2 == 0:\n",
    "    print(\" Num is even no\")\n",
    "else:\n",
    "    print(\" Num is odd no \")\n"
   ]
  },
  {
   "cell_type": "markdown",
   "metadata": {},
   "source": [
    "##Create a programe to greet depending on current time"
   ]
  },
  {
   "cell_type": "code",
   "execution_count": 25,
   "metadata": {},
   "outputs": [
    {
     "name": "stdout",
     "output_type": "stream",
     "text": [
      " What is the time 19\n",
      "Time to get home, have a good day\n"
     ]
    }
   ],
   "source": [
    "time = int (input(\" What is the time \"))\n",
    "if  time < 10:\n",
    "    print(\"Hey there , Good morning\")\n",
    "elif time < 12:\n",
    "    print(\"Soon it will be lunch time \")\n",
    "elif time < 18 :\n",
    "    print(\"Hey there , Good after noon , hope you had lunch\")\n",
    "elif time < 20 :\n",
    "    print(\"Time to get home, have a good day\")\n",
    "elif time < 22:\n",
    "    print(\"good evening\")\n",
    "else:\n",
    "    print('good night')"
   ]
  },
  {
   "cell_type": "markdown",
   "metadata": {},
   "source": [
    "##create a programme to grant a limited access to users"
   ]
  },
  {
   "cell_type": "code",
   "execution_count": 40,
   "metadata": {},
   "outputs": [
    {
     "name": "stdout",
     "output_type": "stream",
     "text": [
      "Please enter your username nitin\n",
      "aceess denied\n"
     ]
    }
   ],
   "source": [
    "#solutin\n",
    "users = [\"shyam\",\"ram\", \"kishan\", \"Nitin\",\" akshay\"]\n",
    "username = str(input(\"Please enter your username \"))\n",
    "if username in users:\n",
    "    print(\"Aceess Granted\")\n",
    "else:\n",
    "    print(\"aceess denied\")"
   ]
  },
  {
   "cell_type": "markdown",
   "metadata": {},
   "source": [
    "# #List comprehension"
   ]
  },
  {
   "cell_type": "markdown",
   "metadata": {},
   "source": [
    "### Take a list, say for example this one:\n",
    "\n",
    "  a = [1, 1, 2, 3, 5, 8, 13, 21, 34, 55, 89]\n",
    "and write a program that prints out all the elements of the list that are less than 5"
   ]
  },
  {
   "cell_type": "code",
   "execution_count": 2,
   "metadata": {},
   "outputs": [
    {
     "name": "stdout",
     "output_type": "stream",
     "text": [
      "[1, 1, 2, 3]\n"
     ]
    }
   ],
   "source": [
    "#solution\n",
    "a = [1, 1, 2, 3, 5, 8, 13, 21, 34, 55, 89]\n",
    "x = [i for i in a if i <5]\n",
    "print(x)"
   ]
  },
  {
   "cell_type": "markdown",
   "metadata": {},
   "source": [
    "##Write a small program to fetch the alphabets in ALPHA in lower form using List Comprehension\n",
    "ALPHA = ['A','B','C','D','E']"
   ]
  },
  {
   "cell_type": "code",
   "execution_count": 23,
   "metadata": {},
   "outputs": [
    {
     "name": "stdout",
     "output_type": "stream",
     "text": [
      "['A', 'B', 'C', 'D', 'E']\n"
     ]
    }
   ],
   "source": [
    "#solution\n",
    "ALPHA = ['A','B','C','D','E']\n",
    "x = [i for i in ALPHA if i.lower()]\n",
    "print(x)\n"
   ]
  },
  {
   "cell_type": "markdown",
   "metadata": {},
   "source": [
    "##Create a program that asks the user for a number and then prints out a list of all the divisors of that numberb"
   ]
  },
  {
   "cell_type": "code",
   "execution_count": 10,
   "metadata": {},
   "outputs": [
    {
     "name": "stdout",
     "output_type": "stream",
     "text": [
      "enter a number 987\n",
      "1\n",
      "3\n",
      "7\n",
      "21\n",
      "47\n"
     ]
    }
   ],
   "source": [
    "#solution\n",
    "x = int(input ('enter a number ')) \n",
    "y = range (1,99)\n",
    "for i in y:\n",
    "    if x % i == 0:\n",
    "        print(i)"
   ]
  },
  {
   "cell_type": "markdown",
   "metadata": {},
   "source": [
    "#take two lists, say for example these two:\n",
    "\n",
    "  a = [1, 1, 2, 3, 5, 8, 13, 21, 34, 55, 89]\n",
    "  b = [1, 2, 3, 4, 5, 6, 7, 8, 9, 10, 11, 12, 13]\n",
    "and write a program that returns a list that contains only the elements that are common between the lists (without duplicates). Make sure your program works on two lists of different sizes."
   ]
  },
  {
   "cell_type": "code",
   "execution_count": 5,
   "metadata": {},
   "outputs": [
    {
     "name": "stdout",
     "output_type": "stream",
     "text": [
      "[1, 2, 3, 5, 8, 13]\n"
     ]
    }
   ],
   "source": [
    "#solution\n",
    "a = [1, 1, 2, 3, 5, 8, 13, 21, 34, 55, 89]\n",
    "b = [1, 2, 3, 4, 5, 6, 7, 8, 9, 10, 11, 12, 13]\n",
    "c= [ i for i in set(a) & set(b)]\n",
    "print(c)"
   ]
  },
  {
   "cell_type": "markdown",
   "metadata": {},
   "source": [
    "##Ask the user for a string and print out whether this string is a palindrome or not. (A palindrome is a string that reads the same forwards and backwards.)"
   ]
  },
  {
   "cell_type": "code",
   "execution_count": 16,
   "metadata": {},
   "outputs": [
    {
     "name": "stdout",
     "output_type": "stream",
     "text": [
      " Enter a string abdfd\n",
      "It is not palindrome\n"
     ]
    }
   ],
   "source": [
    "#solution\n",
    "my_str = str(input(' Enter a string '))\n",
    "my_str = my_str.casefold()\n",
    "rev_str = reversed(my_str)\n",
    "if list(my_str) == list(rev_str):\n",
    "   print(\"It is palindrome\")\n",
    "else:\n",
    "   print(\"It is not palindrome\")\n"
   ]
  },
  {
   "cell_type": "markdown",
   "metadata": {},
   "source": [
    "## Let’s say I give you a list saved in a variable: a = [1, 4, 9, 16, 25, 36, 49, 64, 81, 100]. Write one line of Python that takes this list a and makes a new list that has only the even elements of this list in it."
   ]
  },
  {
   "cell_type": "code",
   "execution_count": 17,
   "metadata": {},
   "outputs": [
    {
     "name": "stdout",
     "output_type": "stream",
     "text": [
      "[4, 16, 36, 64, 100]\n"
     ]
    }
   ],
   "source": [
    "#solution\n",
    "a = [1, 4, 9, 16, 25, 36, 49, 64, 81, 100]\n",
    "b = [i for i in a if i % 2 ==0]\n",
    "print(b)\n",
    "    \n"
   ]
  },
  {
   "cell_type": "markdown",
   "metadata": {},
   "source": [
    "## Make a two-player Rock-Paper-Scissors game. (Hint: Ask for player plays (using input), compare them, print out a message of congratulations to the winner, and ask if the players want to start a new game)\n",
    "\n",
    "Remember the rules:\n",
    "\n",
    "Rock beats scissors\n",
    "Scissors beats paper\n",
    "Paper beats rock"
   ]
  },
  {
   "cell_type": "code",
   "execution_count": 6,
   "metadata": {},
   "outputs": [
    {
     "name": "stdout",
     "output_type": "stream",
     "text": [
      " type_your_bet_p1 s\n",
      " type_your_bet_p2 p\n",
      "Congrats, pl_1 wins!!\n"
     ]
    }
   ],
   "source": [
    "#solution\n",
    "#type_your_bet ={rock=='r', scissors=='s',paper=='p'}\n",
    "pl_1 = str(input(' type_your_bet_p1 '))\n",
    "pl_2 = str(input(' type_your_bet_p2 '))\n",
    "if pl_1 == pl_2:\n",
    "    print(\"Its a tie, try again\")\n",
    "elif pl_1 =='r' and pl_2 =='s':\n",
    "    print(\"Congrats, pl_1 wins!!\")\n",
    "elif pl_1 == 's'and pl_2 =='r':\n",
    "    print(\"Congrats, pl_2 wins!!\")\n",
    "elif pl_1 == 's' and pl_2 =='p':\n",
    "    print(\"Congrats, pl_1 wins!!\")\n",
    "elif pl_1 == 'p'and pl_2 == 's':\n",
    "    print(\"Congrats, pl_2 wins!!\")\n",
    "elif pl_1 == 'p' and pl_2 == 'r':\n",
    "    print(\"Congrats, pl_1 wins!!\")\n",
    "elif pl_1 == 'r' and pl_2 == 'p':\n",
    "    print(\"Congrats, pl_2 wins!!\")\n",
    "else:\n",
    "    print('Do you want to start a new game' + str(input()))\n"
   ]
  },
  {
   "cell_type": "markdown",
   "metadata": {},
   "source": [
    "## Generate a random number between 1 and 9 (including 1 and 9). Ask the user to guess the number, then tell them whether they guessed too low, too high, or exactly right"
   ]
  },
  {
   "cell_type": "code",
   "execution_count": 2,
   "metadata": {},
   "outputs": [
    {
     "name": "stdout",
     "output_type": "stream",
     "text": [
      "What's your guess  - 6\n",
      "Too high!\n",
      "What's your guess  - 4\n",
      "Too high!\n",
      "What's your guess  - 3\n",
      "Too high!\n",
      "What's your guess  - 2\n",
      "You got it!\n",
      "And it only took you 4 tries!\n"
     ]
    }
   ],
   "source": [
    "import random\n",
    "\n",
    "number = random.randint(1,9)\n",
    "guess = 0\n",
    "count = 0\n",
    "\n",
    "\n",
    "while guess != number and guess != \"exit\":\n",
    "    guess = input(\"What's your guess  - \")\n",
    "    \n",
    "    if guess == \"exit\":\n",
    "        break\n",
    "    \n",
    "    guess = int(guess)\n",
    "    count += 1\n",
    "    \n",
    "    if guess < number:\n",
    "        print(\"Too low!\")\n",
    "    elif guess > number:\n",
    "        print(\"Too high!\")\n",
    "    else:\n",
    "        print(\"You got it!\")\n",
    "        print(\"And it only took you\",count,\"tries!\")"
   ]
  },
  {
   "cell_type": "markdown",
   "metadata": {},
   "source": [
    "## Ask the user for a number and determine whether the number is prime or not."
   ]
  },
  {
   "cell_type": "code",
   "execution_count": 2,
   "metadata": {},
   "outputs": [
    {
     "name": "stdout",
     "output_type": "stream",
     "text": [
      "Give me a number greater than 2 - 78\n",
      "78 is not a prime number, it's divisors are [2, 3, 6, 13, 26, 39]\n"
     ]
    }
   ],
   "source": [
    "#solution\n",
    "\n",
    "def get_number(question=\"Give me a number greater than 2 - \"):\n",
    "    n = 0\n",
    "    while n < 3: n = int(input(question))\n",
    "    return n\n",
    "\n",
    "def get_divisors(n):\n",
    "    x = list(range(2,n))\n",
    "    divisors = [i for i in x if n % i == 0]\n",
    "    return divisors\n",
    "\n",
    "n = get_number()\n",
    "divisors = get_divisors(n)\n",
    "if divisors == []: \n",
    "    print(\"{} is a prime number\".format(n))\n",
    "else:\n",
    "    print(\"{} is not a prime number, it's divisors are {}\".format(n,divisors))"
   ]
  },
  {
   "cell_type": "markdown",
   "metadata": {},
   "source": [
    "## write a programme to create fibonacci series."
   ]
  },
  {
   "cell_type": "code",
   "execution_count": 6,
   "metadata": {},
   "outputs": [
    {
     "name": "stdout",
     "output_type": "stream",
     "text": [
      "How many numbers that generates?:4\n",
      "[1, 1, 2, 3]\n",
      "6\n"
     ]
    },
    {
     "data": {
      "text/plain": [
       "'6'"
      ]
     },
     "execution_count": 6,
     "metadata": {},
     "output_type": "execute_result"
    }
   ],
   "source": [
    "def fibonacci():\n",
    "    num = int(input(\"How many numbers that generates?:\"))\n",
    "    i = 1\n",
    "    if num == 0:\n",
    "        fib = []\n",
    "    elif num == 1:\n",
    "        fib = [1]\n",
    "    elif num == 2:\n",
    "        fib = [1,1]\n",
    "    elif num > 2:\n",
    "        fib = [1,1]\n",
    "        while i < (num - 1):\n",
    "            fib.append(fib[i] + fib[i-1])\n",
    "            i += 1\n",
    "    return fib\n",
    "print(fibonacci())\n",
    "input()\n"
   ]
  },
  {
   "cell_type": "code",
   "execution_count": 4,
   "metadata": {},
   "outputs": [
    {
     "data": {
      "text/plain": [
       "7"
      ]
     },
     "execution_count": 4,
     "metadata": {},
     "output_type": "execute_result"
    }
   ],
   "source": [
    "#write a python function that takes a list ofwords and returns the length of longest one.\n",
    "def list_of_words():\n",
    "    words=[\"Abhinav\",\"Smutesh\",\"India\"]\n",
    "    x= []\n",
    "    for i in words:\n",
    "        x.append(len(i))\n",
    "    return(max(x))\n",
    "list_of_words()\n",
    "        \n",
    "        "
   ]
  },
  {
   "cell_type": "code",
   "execution_count": 5,
   "metadata": {},
   "outputs": [
    {
     "data": {
      "text/plain": [
       "'resta$t'"
      ]
     },
     "execution_count": 5,
     "metadata": {},
     "output_type": "execute_result"
    }
   ],
   "source": [
    "#write a python programme to get a string from a given string where all occurences of \n",
    "#its first char have been changed to \" \",exceptitsfirstcharitself,samplestring:′restart′,output:′resta$t\n",
    "\n",
    "x = \"restart\"\n",
    "y = x[0]+ x.replace('r','$')[1:]\n",
    "y"
   ]
  },
  {
   "cell_type": "code",
   "execution_count": 6,
   "metadata": {},
   "outputs": [
    {
     "name": "stdout",
     "output_type": "stream",
     "text": [
      "The value is not in the list\n",
      "The value is not in the list\n",
      "The value is not in the list\n",
      "The value is not in the list\n",
      "The value is not in the list\n"
     ]
    }
   ],
   "source": [
    "#define a binary search function that will take a list as input and return the value and index position as output\n",
    "def bin_search(L,M):\n",
    "    for i,j in enumerate(L):\n",
    "        if j== M:\n",
    "            print(\"The value is {} found at location {}\".format(j,i))\n",
    "        else:\n",
    "            print(\"The value is not in the list\")\n",
    "       \n",
    "        \n",
    "L = [10,20,30, 40, 400]\n",
    "bin_search(L,50)\n"
   ]
  },
  {
   "cell_type": "code",
   "execution_count": 7,
   "metadata": {},
   "outputs": [
    {
     "name": "stdout",
     "output_type": "stream",
     "text": [
      "enter the number3\n",
      "the number is odd\n"
     ]
    }
   ],
   "source": [
    "#Check given no is odd or even\n",
    "\n",
    "num=int(input(\"enter the number\"))\n",
    "mod=num%2\n",
    "if mod%4==0:\n",
    "    print(\"the number is divisible by 4\")\n",
    "elif mod%2==0:\n",
    "    print(\"the number is even\")\n",
    "else:\n",
    "    print(\"the number is odd\")"
   ]
  },
  {
   "cell_type": "code",
   "execution_count": 8,
   "metadata": {},
   "outputs": [
    {
     "name": "stdout",
     "output_type": "stream",
     "text": [
      "1\n",
      "2\n"
     ]
    }
   ],
   "source": [
    "#write a function which will replicate a for loop\n",
    "k ={'a':1, 'b': 2}\n",
    "for i in k:\n",
    "    print(k[i])\n"
   ]
  },
  {
   "cell_type": "code",
   "execution_count": 9,
   "metadata": {},
   "outputs": [
    {
     "name": "stdout",
     "output_type": "stream",
     "text": [
      "* \n",
      "* * \n",
      "* * * \n",
      "* * * * \n",
      "* * * * * \n",
      "* * * * \n",
      "* * * \n",
      "* * \n",
      "* \n"
     ]
    }
   ],
   "source": [
    "#Print a pattern of pyramids using *\n",
    "\n",
    "for i in range (1,6):\n",
    "    print(i*'* ')\n",
    "    if i ==5:\n",
    "        for k in range (4,0,-1):\n",
    "            print(k*'* ')\n",
    "        "
   ]
  }
 ],
 "metadata": {
  "kernelspec": {
   "display_name": "Python 3",
   "language": "python",
   "name": "python3"
  },
  "language_info": {
   "codemirror_mode": {
    "name": "ipython",
    "version": 3
   },
   "file_extension": ".py",
   "mimetype": "text/x-python",
   "name": "python",
   "nbconvert_exporter": "python",
   "pygments_lexer": "ipython3",
   "version": "3.7.0"
  }
 },
 "nbformat": 4,
 "nbformat_minor": 2
}
