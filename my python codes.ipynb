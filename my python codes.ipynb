{
 "cells": [
  {
   "cell_type": "code",
   "execution_count": 42,
   "metadata": {},
   "outputs": [
    {
     "name": "stdout",
     "output_type": "stream",
     "text": [
      "enter the 1st no 5\n",
      "enter the 2nd no 7\n",
      "enter the function : sum, sub, mul, div - sum\n",
      "12\n"
     ]
    }
   ],
   "source": [
    "#Basic Mathematical operations\n",
    "\n",
    "x = int(input ('enter the 1st no '))\n",
    "y = int(input ('enter the 2nd no '))\n",
    "fun = input('enter the function : sum, sub, mul, div - ')\n",
    "if fun == 'sum':\n",
    "    z = x+y\n",
    "    print(z)\n",
    "elif fun == 'sub':\n",
    "    z = x-y\n",
    "    print (z)\n",
    "elif fun == 'mul':\n",
    "    z = x*y\n",
    "    print(z)\n",
    "elif fun == 'div':\n",
    "    z =x/y\n",
    "    print(z)"
   ]
  },
  {
   "cell_type": "markdown",
   "metadata": {},
   "source": [
    "### Write a program which will find all such numbers which are divisible by 7 but are not a multiple of 5,\n",
    "between 2000 and 3200 (both included).\n",
    "The numbers obtained should be printed in a comma-separated sequence on a single line."
   ]
  },
  {
   "cell_type": "code",
   "execution_count": 3,
   "metadata": {},
   "outputs": [
    {
     "name": "stdout",
     "output_type": "stream",
     "text": [
      "['2002', '2009', '2016', '2023', '2037', '2044', '2051', '2058', '2072', '2079', '2086', '2093', '2107', '2114', '2121', '2128', '2142', '2149', '2156', '2163', '2177', '2184', '2191', '2198', '2212', '2219', '2226', '2233', '2247', '2254', '2261', '2268', '2282', '2289', '2296', '2303', '2317', '2324', '2331', '2338', '2352', '2359', '2366', '2373', '2387', '2394', '2401', '2408', '2422', '2429', '2436', '2443', '2457', '2464', '2471', '2478', '2492', '2499', '2506', '2513', '2527', '2534', '2541', '2548', '2562', '2569', '2576', '2583', '2597', '2604', '2611', '2618', '2632', '2639', '2646', '2653', '2667', '2674', '2681', '2688', '2702', '2709', '2716', '2723', '2737', '2744', '2751', '2758', '2772', '2779', '2786', '2793', '2807', '2814', '2821', '2828', '2842', '2849', '2856', '2863', '2877', '2884', '2891', '2898', '2912', '2919', '2926', '2933', '2947', '2954', '2961', '2968', '2982', '2989', '2996', '3003', '3017', '3024', '3031', '3038', '3052', '3059', '3066', '3073', '3087', '3094', '3101', '3108', '3122', '3129', '3136', '3143', '3157', '3164', '3171', '3178', '3192', '3199']\n"
     ]
    }
   ],
   "source": [
    "list = []\n",
    "for i in range(2000, 3201):\n",
    "    if i%7 == 0 and i%5 !=0:\n",
    "        list.append(str(i))\n",
    "        \n",
    "print (list)\n",
    "        \n"
   ]
  },
  {
   "cell_type": "markdown",
   "metadata": {},
   "source": [
    "Write a program which can compute the factorial of a given numbers.\n",
    "The results should be printed in a comma-separated sequence on a single line.\n",
    "Suppose the following input is supplied to the program:\n",
    "8\n",
    "Then, the output should be:\n",
    "40320"
   ]
  },
  {
   "cell_type": "code",
   "execution_count": 9,
   "metadata": {},
   "outputs": [
    {
     "name": "stdout",
     "output_type": "stream",
     "text": [
      "type a no 9\n",
      "362880\n"
     ]
    }
   ],
   "source": [
    "def fact(x): \n",
    "    if x== 0:\n",
    "        return 1\n",
    "    return x* fact (x-1)\n",
    "\n",
    "x = int(input(\"type a no \"))\n",
    "print (fact(x))"
   ]
  },
  {
   "cell_type": "markdown",
   "metadata": {},
   "source": [
    "With a given integral number n, write a program to generate a dictionary that contains (i, i*i) such that is an integral number between 1 and n (both included). and then the program should print the dictionary.\n",
    "Suppose the following input is supplied to the program:\n",
    "8\n",
    "Then, the output should be:\n",
    "{1: 1, 2: 4, 3: 9, 4: 16, 5: 25, 6: 36, 7: 49, 8: 64}\n"
   ]
  },
  {
   "cell_type": "code",
   "execution_count": 47,
   "metadata": {},
   "outputs": [
    {
     "name": "stdout",
     "output_type": "stream",
     "text": [
      "give us a year 2006\n"
     ]
    },
    {
     "data": {
      "text/plain": [
       "'Its not a leap year'"
      ]
     },
     "execution_count": 47,
     "metadata": {},
     "output_type": "execute_result"
    }
   ],
   "source": [
    "def leap_year():\n",
    "    year = input(\"give us a year \")\n",
    "    try:\n",
    "        year_int = int(year)\n",
    "    except:\n",
    "        print('Please input a valid year')\n",
    "    if year_int % 4 == 0 or year_int % 100 != 0 and year_int % 400 == 0:\n",
    "        return(\"This is a leap year\")\n",
    "    else:\n",
    "        return(\"Its not a leap year\")\n",
    "    \n",
    "leap_year()\n",
    "\n",
    "\n",
    "                        \n",
    "                "
   ]
  },
  {
   "cell_type": "code",
   "execution_count": 33,
   "metadata": {},
   "outputs": [
    {
     "name": "stdout",
     "output_type": "stream",
     "text": [
      "type the no 7\n",
      "{1: 1, 2: 4, 3: 9, 4: 16, 5: 25, 6: 36, 7: 49}\n"
     ]
    }
   ],
   "source": [
    "n=int(input(\"type the no \"))\n",
    "d=dict()\n",
    "for i in range(1,n+1):\n",
    "    d[i]=i*i\n",
    "\n",
    "print(d)"
   ]
  },
  {
   "cell_type": "code",
   "execution_count": null,
   "metadata": {},
   "outputs": [],
   "source": [
    "num = [2,4,6,8,10,12]\n",
    "for i in num:\n",
    "    if i**2 > 50:\n",
    "        print(\"Yes\")\n",
    "    else:\n",
    "        print(\"No\")"
   ]
  },
  {
   "cell_type": "code",
   "execution_count": 41,
   "metadata": {},
   "outputs": [
    {
     "name": "stdout",
     "output_type": "stream",
     "text": [
      "Please input a list of words to evaluate: dfghjjkk,fghhjjkkkk,fttyu\n"
     ]
    }
   ],
   "source": [
    "#write a python function that takes a list ofwords and returns the length of longest one.\n",
    "def main():\n",
    "    a = sorted(input(\"Please input a list of words to evaluate: \").split(), key=len) [-1]\n",
    "    print\n",
    "    (\"You longe word \", str(a), \" have this\", str(len(a)), \"lenghts\")\n",
    "\n",
    "    \n",
    "main()  \n"
   ]
  },
  {
   "cell_type": "code",
   "execution_count": 44,
   "metadata": {},
   "outputs": [
    {
     "name": "stdout",
     "output_type": "stream",
     "text": [
      "[7, 6, 5, 4, 3, 2, 1]\n"
     ]
    }
   ],
   "source": [
    "x= [1,2,3,4,5,6,7]\n",
    "y = [i for i in range(len(x),0,-1)]\n",
    "print(y)"
   ]
  },
  {
   "cell_type": "code",
   "execution_count": 6,
   "metadata": {},
   "outputs": [
    {
     "name": "stdout",
     "output_type": "stream",
     "text": [
      "Enter the string  adding\n",
      "The new string is addingly\n"
     ]
    }
   ],
   "source": [
    "x = str(input('Enter the string  '))\n",
    "if x.find('ing') == -1:\n",
    "    print('The new string is {}ing'.format(x))\n",
    "else:\n",
    "    print('The new string is {}ly'.format(x))\n",
    "    "
   ]
  },
  {
   "cell_type": "code",
   "execution_count": 3,
   "metadata": {},
   "outputs": [
    {
     "data": {
      "text/plain": [
       "'E:\\\\data science\\\\codes'"
      ]
     },
     "execution_count": 3,
     "metadata": {},
     "output_type": "execute_result"
    }
   ],
   "source": [
    "%pwd"
   ]
  },
  {
   "cell_type": "code",
   "execution_count": 12,
   "metadata": {
    "scrolled": false
   },
   "outputs": [
    {
     "name": "stdout",
     "output_type": "stream",
     "text": [
      "62\n"
     ]
    }
   ],
   "source": [
    "file = open('random.txt','r')\n",
    "# file.writelines(['hello world', 'python']\n",
    "# print(file)\n",
    "file_content = file.read(10)\n",
    "file_content = file.read(100)\n",
    "print(file.tell())\n",
    "# file_content = file.readlines()\n",
    "# file_content = file.readline()\n",
    "# print(len(file_content))\n",
    "# print(file_content)\n",
    "# for line in file :\n",
    "#     print (line)\n",
    "# file.close()\n",
    "# print(file.closed)\n",
    "# print(file.name)\n",
    "# print(file.mode)"
   ]
  },
  {
   "cell_type": "code",
   "execution_count": 26,
   "metadata": {},
   "outputs": [
    {
     "name": "stdout",
     "output_type": "stream",
     "text": [
      "[0, 1, 2, 3, 4, 5, 6, 7, 8, 9]\n"
     ]
    }
   ],
   "source": [
    "y = list(range(0,10))\n",
    "print(y)\n"
   ]
  },
  {
   "cell_type": "code",
   "execution_count": 9,
   "metadata": {},
   "outputs": [],
   "source": [
    "# open an existing file from your pc and copy all the contents to a new file at a time\n",
    "\n",
    "with open('random.txt', 'r') as rf:\n",
    "    with open ('copy_random.txt', 'w') as wf:\n",
    "        for lines in rf: \n",
    "            wf.write(lines)"
   ]
  },
  {
   "cell_type": "code",
   "execution_count": 16,
   "metadata": {},
   "outputs": [],
   "source": [
    "import numpy as np\n",
    "import pandas as pd\n",
    "from scipy.stats import binom\n",
    "from scipy.stats import norm\n",
    "import matplotlib.pyplot as plt\n",
    "import seaborn as sns"
   ]
  },
  {
   "cell_type": "code",
   "execution_count": 12,
   "metadata": {},
   "outputs": [
    {
     "name": "stderr",
     "output_type": "stream",
     "text": [
      "c:\\users\\bhagwan pc\\appdata\\local\\programs\\python\\python37\\lib\\site-packages\\scipy\\stats\\stats.py:1713: FutureWarning: Using a non-tuple sequence for multidimensional indexing is deprecated; use `arr[tuple(seq)]` instead of `arr[seq]`. In the future this will be interpreted as an array index, `arr[np.array(seq)]`, which will result either in an error or a different result.\n",
      "  return np.add.reduce(sorted[indexer] * weights, axis=axis) / sumval\n"
     ]
    },
    {
     "data": {
      "image/png": "[encoded data removed]",
      "text/plain": [
       "<Figure size 432x288 with 1 Axes>"
      ]
     },
     "metadata": {},
     "output_type": "display_data"
    }
   ],
   "source": [
    "binom_dist = np.random.binomial(n= 1000, p = 0.5 , size = 10000)\n",
    "sns.distplot(binom_dist)\n",
    "plt.show()"
   ]
  },
  {
   "cell_type": "code",
   "execution_count": 18,
   "metadata": {},
   "outputs": [
    {
     "name": "stdout",
     "output_type": "stream",
     "text": [
      "The mean is 5.0\n",
      "The var is 100.0\n",
      "The skewness is 0.0\n",
      "The kurtosis is 0.0\n"
     ]
    }
   ],
   "source": [
    "# binom.pmf(n = 1000, p = 0.5 , k = 520)\n",
    "# m, v, s, k = binom.stats(n = 1000, p = 0.5 , moments = 'mvsk')\n",
    "# print (\"The mean is {}\\nThe var is {}\\nThe skewness is {}\\nThe kurtosis is {}\".format(m,v,s,k))\n",
    "\n",
    "\n",
    "m, v, s, k = norm.stats(loc= 5, scale = 10 , moments = 'mvsk')     \n",
    "print (\"The mean is {}\\nThe var is {}\\nThe skewness is {}\\nThe kurtosis is {}\".format(m,v,s,k))"
   ]
  },
  {
   "cell_type": "code",
   "execution_count": 8,
   "metadata": {},
   "outputs": [],
   "source": [
    "import pandas as pd"
   ]
  },
  {
   "cell_type": "code",
   "execution_count": 11,
   "metadata": {},
   "outputs": [
    {
     "name": "stdout",
     "output_type": "stream",
     "text": [
      "        a       b        c\n",
      "0  class1  class2   class3\n",
      "1      12     432   853457\n",
      "2     321    3423  8928582\n",
      "3     413    2524     3434\n"
     ]
    }
   ],
   "source": [
    "#creating a data frame using dictionary\n",
    "dict = {\"a\": [\"class1\",12, 321, 413],\n",
    "       \"b\":[\"class2\",432, 3423,2524],\n",
    "       \"c\":[\"class3\",853457,8928582,3434]}\n",
    "data_new =pd.DataFrame(data=dict)\n",
    "print(data_new)"
   ]
  }
 ],
 "metadata": {
  "kernelspec": {
   "display_name": "Python 3",
   "language": "python",
   "name": "python3"
  },
  "language_info": {
   "codemirror_mode": {
    "name": "ipython",
    "version": 3
   },
   "file_extension": ".py",
   "mimetype": "text/x-python",
   "name": "python",
   "nbconvert_exporter": "python",
   "pygments_lexer": "ipython3",
   "version": "3.7.0"
  }
 },
 "nbformat": 4,
 "nbformat_minor": 2
}
